{
  "nbformat": 4,
  "nbformat_minor": 0,
  "metadata": {
    "colab": {
      "provenance": [],
      "authorship_tag": "ABX9TyOP1oZqMoKR9sai1ldYlDdJ",
      "include_colab_link": true
    },
    "kernelspec": {
      "name": "python3",
      "display_name": "Python 3"
    },
    "language_info": {
      "name": "python"
    }
  },
  "cells": [
    {
      "cell_type": "markdown",
      "metadata": {
        "id": "view-in-github",
        "colab_type": "text"
      },
      "source": [
        "<a href=\"https://colab.research.google.com/github/s28629/PAD_final_project/blob/main/Jacek_Piekut_28629_PAD_final_project_notebook.ipynb\" target=\"_parent\"><img src=\"https://colab.research.google.com/assets/colab-badge.svg\" alt=\"Open In Colab\"/></a>"
      ]
    },
    {
      "cell_type": "markdown",
      "source": [
        "---\n",
        "##Installing external libraries\n",
        "---"
      ],
      "metadata": {
        "id": "JootWihvQcfC"
      }
    },
    {
      "cell_type": "code",
      "execution_count": 1,
      "metadata": {
        "colab": {
          "base_uri": "https://localhost:8080/"
        },
        "id": "qvyZ8hlJPDMv",
        "outputId": "86ed17a7-ef56-4e26-9336-406deb69a30a"
      },
      "outputs": [
        {
          "output_type": "stream",
          "name": "stdout",
          "text": [
            "\u001b[2K     \u001b[90m━━━━━━━━━━━━━━━━━━━━━━━━━━━━━━━━━━━━━━━━\u001b[0m \u001b[32m8.9/8.9 MB\u001b[0m \u001b[31m67.0 MB/s\u001b[0m eta \u001b[36m0:00:00\u001b[0m\n",
            "\u001b[2K     \u001b[90m━━━━━━━━━━━━━━━━━━━━━━━━━━━━━━━━━━━━━━\u001b[0m \u001b[32m164.8/164.8 kB\u001b[0m \u001b[31m19.6 MB/s\u001b[0m eta \u001b[36m0:00:00\u001b[0m\n",
            "\u001b[?25h  Preparing metadata (setup.py) ... \u001b[?25l\u001b[?25hdone\n",
            "\u001b[2K     \u001b[90m━━━━━━━━━━━━━━━━━━━━━━━━━━━━━━━━━━━━━━\u001b[0m \u001b[32m184.3/184.3 kB\u001b[0m \u001b[31m19.8 MB/s\u001b[0m eta \u001b[36m0:00:00\u001b[0m\n",
            "\u001b[2K     \u001b[90m━━━━━━━━━━━━━━━━━━━━━━━━━━━━━━━━━━━━━━━━\u001b[0m \u001b[32m4.8/4.8 MB\u001b[0m \u001b[31m60.6 MB/s\u001b[0m eta \u001b[36m0:00:00\u001b[0m\n",
            "\u001b[2K     \u001b[90m━━━━━━━━━━━━━━━━━━━━━━━━━━━━━━━━━━━━━━━━\u001b[0m \u001b[32m82.1/82.1 kB\u001b[0m \u001b[31m9.3 MB/s\u001b[0m eta \u001b[36m0:00:00\u001b[0m\n",
            "\u001b[2K     \u001b[90m━━━━━━━━━━━━━━━━━━━━━━━━━━━━━━━━━━━━━━━━\u001b[0m \u001b[32m62.7/62.7 kB\u001b[0m \u001b[31m5.7 MB/s\u001b[0m eta \u001b[36m0:00:00\u001b[0m\n",
            "\u001b[2K     \u001b[90m━━━━━━━━━━━━━━━━━━━━━━━━━━━━━━━━━━━━━━\u001b[0m \u001b[32m341.8/341.8 kB\u001b[0m \u001b[31m24.7 MB/s\u001b[0m eta \u001b[36m0:00:00\u001b[0m\n",
            "\u001b[?25h  Building wheel for validators (setup.py) ... \u001b[?25l\u001b[?25hdone\n"
          ]
        }
      ],
      "source": [
        "!pip install -q streamlit"
      ]
    },
    {
      "cell_type": "code",
      "source": [
        "!npm install localtunnel"
      ],
      "metadata": {
        "colab": {
          "base_uri": "https://localhost:8080/"
        },
        "id": "iaT3PhRtQgXi",
        "outputId": "4ce75112-b499-4e60-e53e-1d36f2beb087"
      },
      "execution_count": 2,
      "outputs": [
        {
          "output_type": "stream",
          "name": "stdout",
          "text": [
            "\u001b[K\u001b[?25h\u001b[37;40mnpm\u001b[0m \u001b[0m\u001b[30;43mWARN\u001b[0m \u001b[0m\u001b[35msaveError\u001b[0m ENOENT: no such file or directory, open '/content/package.json'\n",
            "\u001b[0m\u001b[37;40mnpm\u001b[0m \u001b[0m\u001b[34;40mnotice\u001b[0m\u001b[35m\u001b[0m created a lockfile as package-lock.json. You should commit this file.\n",
            "\u001b[0m\u001b[37;40mnpm\u001b[0m \u001b[0m\u001b[30;43mWARN\u001b[0m \u001b[0m\u001b[35menoent\u001b[0m ENOENT: no such file or directory, open '/content/package.json'\n",
            "\u001b[0m\u001b[37;40mnpm\u001b[0m \u001b[0m\u001b[30;43mWARN\u001b[0m\u001b[35m\u001b[0m content No description\n",
            "\u001b[0m\u001b[37;40mnpm\u001b[0m \u001b[0m\u001b[30;43mWARN\u001b[0m\u001b[35m\u001b[0m content No repository field.\n",
            "\u001b[0m\u001b[37;40mnpm\u001b[0m \u001b[0m\u001b[30;43mWARN\u001b[0m\u001b[35m\u001b[0m content No README data\n",
            "\u001b[0m\u001b[37;40mnpm\u001b[0m \u001b[0m\u001b[30;43mWARN\u001b[0m\u001b[35m\u001b[0m content No license field.\n",
            "\u001b[0m\n",
            "+ localtunnel@2.0.2\n",
            "added 22 packages from 22 contributors and audited 22 packages in 1.837s\n",
            "\n",
            "3 packages are looking for funding\n",
            "  run `npm fund` for details\n",
            "\n",
            "found \u001b[92m0\u001b[0m vulnerabilities\n",
            "\n",
            "\u001b[K\u001b[?25h"
          ]
        }
      ]
    },
    {
      "cell_type": "markdown",
      "source": [
        "---\n",
        "##Loading external libraries\n",
        "---"
      ],
      "metadata": {
        "id": "bENLDWp0RXWo"
      }
    },
    {
      "cell_type": "code",
      "source": [
        "########################################################################################################################\n",
        "########################################################################################################################\n",
        "\n",
        "import numpy              as np\n",
        "import pandas             as pd\n",
        "import matplotlib.pyplot  as plt\n",
        "import seaborn            as sns\n",
        "import statsmodels.api    as sm\n",
        "import streamlit          as st\n",
        "\n",
        "########################################################################################################################\n",
        "########################################################################################################################"
      ],
      "metadata": {
        "id": "eypJV9iFRZ8P"
      },
      "execution_count": 3,
      "outputs": []
    },
    {
      "cell_type": "markdown",
      "source": [
        "---\n",
        "##Loading specific functionalities from external libraries\n",
        "---"
      ],
      "metadata": {
        "id": "EGRhGSHLRrgn"
      }
    },
    {
      "cell_type": "code",
      "source": [
        "########################################################################################################################\n",
        "########################################################################################################################\n",
        "\n",
        "from google.colab import drive\n",
        "\n",
        "from scipy.stats                import zscore\n",
        "\n",
        "from sklearn.ensemble           import RandomForestRegressor, BaggingRegressor,   AdaBoostRegressor\n",
        "from sklearn.linear_model       import LinearRegression,      LogisticRegression, Ridge,            Lasso\n",
        "from sklearn.metrics            import accuracy_score,        mean_squared_error\n",
        "from sklearn.model_selection    import cross_val_score,       train_test_split\n",
        "from sklearn.preprocessing      import StandardScaler\n",
        "from sklearn.utils              import resample\n",
        "\n",
        "########################################################################################################################\n",
        "########################################################################################################################"
      ],
      "metadata": {
        "id": "MUYxS4XTRs-o"
      },
      "execution_count": 4,
      "outputs": []
    },
    {
      "cell_type": "markdown",
      "source": [
        "---\n",
        "##Loading dataset\n",
        "\n",
        "---"
      ],
      "metadata": {
        "id": "-N2oFqCVR86v"
      }
    },
    {
      "cell_type": "code",
      "source": [
        "########################################################################################################################\n",
        "\n",
        "drive.mount('/content/drive')\n",
        "\n",
        "###########################################"
      ],
      "metadata": {
        "colab": {
          "base_uri": "https://localhost:8080/"
        },
        "id": "6wSfLWKGR9un",
        "outputId": "f5f3b325-73c9-4efd-d38b-37aa95d03db7"
      },
      "execution_count": 5,
      "outputs": [
        {
          "output_type": "stream",
          "name": "stdout",
          "text": [
            "Mounted at /content/drive\n"
          ]
        }
      ]
    },
    {
      "cell_type": "code",
      "source": [
        "########################################################################################################################\n",
        "\n",
        "location        = '/content/drive/MyDrive/courses/part_2/PAD/final_project_form/'\n",
        "name_of_dataset = 'real_estate_dataset.csv'\n",
        "dataset_path    = location + name_of_dataset\n",
        "\n",
        "########################################################################################################################"
      ],
      "metadata": {
        "id": "7PW1XmeXSISL"
      },
      "execution_count": 6,
      "outputs": []
    },
    {
      "cell_type": "code",
      "source": [
        "########################################################################################################################\n",
        "# loading the dataset\n",
        "\n",
        "df = pd.read_csv(filepath_or_buffer=dataset_path)\n",
        "\n",
        "########################################################################################################################"
      ],
      "metadata": {
        "id": "No0uRHpHSQ3b"
      },
      "execution_count": 7,
      "outputs": []
    }
  ]
}