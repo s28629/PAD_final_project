{
  "nbformat": 4,
  "nbformat_minor": 0,
  "metadata": {
    "colab": {
      "provenance": [],
      "authorship_tag": "ABX9TyOlQL9FtxxwCOMWKhIh6bUW",
      "include_colab_link": true
    },
    "kernelspec": {
      "name": "python3",
      "display_name": "Python 3"
    },
    "language_info": {
      "name": "python"
    }
  },
  "cells": [
    {
      "cell_type": "markdown",
      "metadata": {
        "id": "view-in-github",
        "colab_type": "text"
      },
      "source": [
        "<a href=\"https://colab.research.google.com/github/s28629/PAD_final_project/blob/main/Jacek_Piekut_28629_PAD_final_project_notebook.ipynb\" target=\"_parent\"><img src=\"https://colab.research.google.com/assets/colab-badge.svg\" alt=\"Open In Colab\"/></a>"
      ]
    },
    {
      "cell_type": "markdown",
      "source": [
        "---\n",
        "##Installing external libraries\n",
        "---"
      ],
      "metadata": {
        "id": "JootWihvQcfC"
      }
    },
    {
      "cell_type": "code",
      "execution_count": 1,
      "metadata": {
        "colab": {
          "base_uri": "https://localhost:8080/"
        },
        "id": "qvyZ8hlJPDMv",
        "outputId": "86ed17a7-ef56-4e26-9336-406deb69a30a"
      },
      "outputs": [
        {
          "output_type": "stream",
          "name": "stdout",
          "text": [
            "\u001b[2K     \u001b[90m━━━━━━━━━━━━━━━━━━━━━━━━━━━━━━━━━━━━━━━━\u001b[0m \u001b[32m8.9/8.9 MB\u001b[0m \u001b[31m67.0 MB/s\u001b[0m eta \u001b[36m0:00:00\u001b[0m\n",
            "\u001b[2K     \u001b[90m━━━━━━━━━━━━━━━━━━━━━━━━━━━━━━━━━━━━━━\u001b[0m \u001b[32m164.8/164.8 kB\u001b[0m \u001b[31m19.6 MB/s\u001b[0m eta \u001b[36m0:00:00\u001b[0m\n",
            "\u001b[?25h  Preparing metadata (setup.py) ... \u001b[?25l\u001b[?25hdone\n",
            "\u001b[2K     \u001b[90m━━━━━━━━━━━━━━━━━━━━━━━━━━━━━━━━━━━━━━\u001b[0m \u001b[32m184.3/184.3 kB\u001b[0m \u001b[31m19.8 MB/s\u001b[0m eta \u001b[36m0:00:00\u001b[0m\n",
            "\u001b[2K     \u001b[90m━━━━━━━━━━━━━━━━━━━━━━━━━━━━━━━━━━━━━━━━\u001b[0m \u001b[32m4.8/4.8 MB\u001b[0m \u001b[31m60.6 MB/s\u001b[0m eta \u001b[36m0:00:00\u001b[0m\n",
            "\u001b[2K     \u001b[90m━━━━━━━━━━━━━━━━━━━━━━━━━━━━━━━━━━━━━━━━\u001b[0m \u001b[32m82.1/82.1 kB\u001b[0m \u001b[31m9.3 MB/s\u001b[0m eta \u001b[36m0:00:00\u001b[0m\n",
            "\u001b[2K     \u001b[90m━━━━━━━━━━━━━━━━━━━━━━━━━━━━━━━━━━━━━━━━\u001b[0m \u001b[32m62.7/62.7 kB\u001b[0m \u001b[31m5.7 MB/s\u001b[0m eta \u001b[36m0:00:00\u001b[0m\n",
            "\u001b[2K     \u001b[90m━━━━━━━━━━━━━━━━━━━━━━━━━━━━━━━━━━━━━━\u001b[0m \u001b[32m341.8/341.8 kB\u001b[0m \u001b[31m24.7 MB/s\u001b[0m eta \u001b[36m0:00:00\u001b[0m\n",
            "\u001b[?25h  Building wheel for validators (setup.py) ... \u001b[?25l\u001b[?25hdone\n"
          ]
        }
      ],
      "source": [
        "!pip install -q streamlit"
      ]
    },
    {
      "cell_type": "code",
      "source": [
        "!npm install localtunnel"
      ],
      "metadata": {
        "colab": {
          "base_uri": "https://localhost:8080/"
        },
        "id": "iaT3PhRtQgXi",
        "outputId": "4ce75112-b499-4e60-e53e-1d36f2beb087"
      },
      "execution_count": 2,
      "outputs": [
        {
          "output_type": "stream",
          "name": "stdout",
          "text": [
            "\u001b[K\u001b[?25h\u001b[37;40mnpm\u001b[0m \u001b[0m\u001b[30;43mWARN\u001b[0m \u001b[0m\u001b[35msaveError\u001b[0m ENOENT: no such file or directory, open '/content/package.json'\n",
            "\u001b[0m\u001b[37;40mnpm\u001b[0m \u001b[0m\u001b[34;40mnotice\u001b[0m\u001b[35m\u001b[0m created a lockfile as package-lock.json. You should commit this file.\n",
            "\u001b[0m\u001b[37;40mnpm\u001b[0m \u001b[0m\u001b[30;43mWARN\u001b[0m \u001b[0m\u001b[35menoent\u001b[0m ENOENT: no such file or directory, open '/content/package.json'\n",
            "\u001b[0m\u001b[37;40mnpm\u001b[0m \u001b[0m\u001b[30;43mWARN\u001b[0m\u001b[35m\u001b[0m content No description\n",
            "\u001b[0m\u001b[37;40mnpm\u001b[0m \u001b[0m\u001b[30;43mWARN\u001b[0m\u001b[35m\u001b[0m content No repository field.\n",
            "\u001b[0m\u001b[37;40mnpm\u001b[0m \u001b[0m\u001b[30;43mWARN\u001b[0m\u001b[35m\u001b[0m content No README data\n",
            "\u001b[0m\u001b[37;40mnpm\u001b[0m \u001b[0m\u001b[30;43mWARN\u001b[0m\u001b[35m\u001b[0m content No license field.\n",
            "\u001b[0m\n",
            "+ localtunnel@2.0.2\n",
            "added 22 packages from 22 contributors and audited 22 packages in 1.837s\n",
            "\n",
            "3 packages are looking for funding\n",
            "  run `npm fund` for details\n",
            "\n",
            "found \u001b[92m0\u001b[0m vulnerabilities\n",
            "\n",
            "\u001b[K\u001b[?25h"
          ]
        }
      ]
    },
    {
      "cell_type": "markdown",
      "source": [
        "---\n",
        "##Loading external libraries\n",
        "---"
      ],
      "metadata": {
        "id": "bENLDWp0RXWo"
      }
    },
    {
      "cell_type": "code",
      "source": [
        "########################################################################################################################\n",
        "########################################################################################################################\n",
        "\n",
        "import numpy              as np\n",
        "import pandas             as pd\n",
        "import matplotlib.pyplot  as plt\n",
        "import seaborn            as sns\n",
        "import statsmodels.api    as sm\n",
        "import streamlit          as st\n",
        "\n",
        "########################################################################################################################\n",
        "########################################################################################################################"
      ],
      "metadata": {
        "id": "eypJV9iFRZ8P"
      },
      "execution_count": 3,
      "outputs": []
    },
    {
      "cell_type": "markdown",
      "source": [
        "---\n",
        "##Loading specific functionalities from external libraries\n",
        "---"
      ],
      "metadata": {
        "id": "EGRhGSHLRrgn"
      }
    },
    {
      "cell_type": "code",
      "source": [
        "########################################################################################################################\n",
        "########################################################################################################################\n",
        "\n",
        "from google.colab import drive\n",
        "\n",
        "from scipy.stats                import zscore\n",
        "\n",
        "from sklearn.ensemble           import RandomForestRegressor, BaggingRegressor,   AdaBoostRegressor\n",
        "from sklearn.linear_model       import LinearRegression,      LogisticRegression, Ridge,            Lasso\n",
        "from sklearn.metrics            import accuracy_score,        mean_squared_error\n",
        "from sklearn.model_selection    import cross_val_score,       train_test_split\n",
        "from sklearn.preprocessing      import StandardScaler\n",
        "from sklearn.utils              import resample\n",
        "\n",
        "########################################################################################################################\n",
        "########################################################################################################################"
      ],
      "metadata": {
        "id": "MUYxS4XTRs-o"
      },
      "execution_count": 4,
      "outputs": []
    },
    {
      "cell_type": "markdown",
      "source": [
        "---\n",
        "##Loading dataset\n",
        "\n",
        "---"
      ],
      "metadata": {
        "id": "-N2oFqCVR86v"
      }
    },
    {
      "cell_type": "code",
      "source": [
        "########################################################################################################################\n",
        "\n",
        "drive.mount('/content/drive')\n",
        "\n",
        "###########################################"
      ],
      "metadata": {
        "colab": {
          "base_uri": "https://localhost:8080/"
        },
        "id": "6wSfLWKGR9un",
        "outputId": "f5f3b325-73c9-4efd-d38b-37aa95d03db7"
      },
      "execution_count": 5,
      "outputs": [
        {
          "output_type": "stream",
          "name": "stdout",
          "text": [
            "Mounted at /content/drive\n"
          ]
        }
      ]
    },
    {
      "cell_type": "code",
      "source": [
        "########################################################################################################################\n",
        "\n",
        "location        = '/content/drive/MyDrive/courses/part_2/PAD/final_project_form/'\n",
        "name_of_dataset = 'real_estate_dataset.csv'\n",
        "dataset_path    = location + name_of_dataset\n",
        "\n",
        "########################################################################################################################"
      ],
      "metadata": {
        "id": "7PW1XmeXSISL"
      },
      "execution_count": 6,
      "outputs": []
    },
    {
      "cell_type": "code",
      "source": [
        "########################################################################################################################\n",
        "# loading the dataset\n",
        "\n",
        "df = pd.read_csv(filepath_or_buffer=dataset_path)\n",
        "\n",
        "########################################################################################################################"
      ],
      "metadata": {
        "id": "No0uRHpHSQ3b"
      },
      "execution_count": 7,
      "outputs": []
    },
    {
      "cell_type": "markdown",
      "source": [
        "---\n",
        "##Exploratory data analysis\n",
        "---"
      ],
      "metadata": {
        "id": "ZYXg1j8PSkLV"
      }
    },
    {
      "cell_type": "code",
      "source": [
        "########################################################################################################################\n",
        "\n",
        "# displaying the number of records loaded\n",
        "\n",
        "num_records = len(df)\n",
        "\n",
        "print(\"Number of Records Loaded:\", num_records)\n",
        "\n",
        "########################################################################################################################"
      ],
      "metadata": {
        "colab": {
          "base_uri": "https://localhost:8080/"
        },
        "id": "Z-19Z8enSlXf",
        "outputId": "d7fe38c0-43b4-40a8-be81-d25dc2b5208f"
      },
      "execution_count": 8,
      "outputs": [
        {
          "output_type": "stream",
          "name": "stdout",
          "text": [
            "Number of Records Loaded: 414\n"
          ]
        }
      ]
    },
    {
      "cell_type": "markdown",
      "source": [
        "---\n",
        "###Missing values detection\n",
        "---"
      ],
      "metadata": {
        "id": "A55LOrmwSqq0"
      }
    },
    {
      "cell_type": "code",
      "source": [
        "########################################################################################################################\n",
        "# displaying the number of missing entries in each column\n",
        "\n",
        "missing_values = df.isnull().sum()\n",
        "\n",
        "print(\"Missing Values:\")\n",
        "print(missing_values)\n",
        "\n",
        "########################################################################################################################"
      ],
      "metadata": {
        "colab": {
          "base_uri": "https://localhost:8080/"
        },
        "id": "e6M9OjjQSrbo",
        "outputId": "954e114a-69bc-46cc-adb9-47d7552faee5"
      },
      "execution_count": 9,
      "outputs": [
        {
          "output_type": "stream",
          "name": "stdout",
          "text": [
            "Missing Values:\n",
            "No                                        0\n",
            "X1 transaction date                       0\n",
            "X2 house age                              0\n",
            "X3 distance to the nearest MRT station    0\n",
            "X4 number of convenience stores           0\n",
            "X5 latitude                               0\n",
            "X6 longitude                              0\n",
            "Y house price of unit area                0\n",
            "dtype: int64\n"
          ]
        }
      ]
    },
    {
      "cell_type": "markdown",
      "source": [
        "---\n",
        "###Column types analysis\n",
        "---"
      ],
      "metadata": {
        "id": "AUs9DEzmSvoJ"
      }
    },
    {
      "cell_type": "code",
      "source": [
        "########################################################################################################################\n",
        "# displaying the types of columns\n",
        "\n",
        "column_types = df.dtypes\n",
        "\n",
        "print(\"Column Types:\")\n",
        "print(column_types)\n",
        "\n",
        "########################################################################################################################"
      ],
      "metadata": {
        "colab": {
          "base_uri": "https://localhost:8080/"
        },
        "id": "T1svMq8bSw67",
        "outputId": "3516ef2c-7be3-4f48-b076-c3c662aabb78"
      },
      "execution_count": 10,
      "outputs": [
        {
          "output_type": "stream",
          "name": "stdout",
          "text": [
            "Column Types:\n",
            "No                                          int64\n",
            "X1 transaction date                       float64\n",
            "X2 house age                              float64\n",
            "X3 distance to the nearest MRT station    float64\n",
            "X4 number of convenience stores             int64\n",
            "X5 latitude                               float64\n",
            "X6 longitude                              float64\n",
            "Y house price of unit area                float64\n",
            "dtype: object\n"
          ]
        }
      ]
    },
    {
      "cell_type": "markdown",
      "source": [
        "---\n",
        "###Displaying sample of records from dataset\n",
        "---"
      ],
      "metadata": {
        "id": "3N82NA2oS2MN"
      }
    },
    {
      "cell_type": "code",
      "source": [
        "########################################################################################################################\n",
        "# displaying the first few rows of the dataset\n",
        "\n",
        "print(\"Sample Data:\")\n",
        "\n",
        "print(df.head())\n",
        "\n",
        "########################################################################################################################"
      ],
      "metadata": {
        "colab": {
          "base_uri": "https://localhost:8080/"
        },
        "id": "ochn9OaTS34a",
        "outputId": "6eb8ea7d-186c-4dea-d1da-a9d2d1683157"
      },
      "execution_count": 11,
      "outputs": [
        {
          "output_type": "stream",
          "name": "stdout",
          "text": [
            "Sample Data:\n",
            "   No  X1 transaction date  X2 house age  \\\n",
            "0   1             2012.917          32.0   \n",
            "1   2             2012.917          19.5   \n",
            "2   3             2013.583          13.3   \n",
            "3   4             2013.500          13.3   \n",
            "4   5             2012.833           5.0   \n",
            "\n",
            "   X3 distance to the nearest MRT station  X4 number of convenience stores  \\\n",
            "0                                84.87882                               10   \n",
            "1                               306.59470                                9   \n",
            "2                               561.98450                                5   \n",
            "3                               561.98450                                5   \n",
            "4                               390.56840                                5   \n",
            "\n",
            "   X5 latitude  X6 longitude  Y house price of unit area  \n",
            "0     24.98298     121.54024                        37.9  \n",
            "1     24.98034     121.53951                        42.2  \n",
            "2     24.98746     121.54391                        47.3  \n",
            "3     24.98746     121.54391                        54.8  \n",
            "4     24.97937     121.54245                        43.1  \n"
          ]
        }
      ]
    }
  ]
}