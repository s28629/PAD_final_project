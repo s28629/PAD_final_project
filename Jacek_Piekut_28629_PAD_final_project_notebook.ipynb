{
  "nbformat": 4,
  "nbformat_minor": 0,
  "metadata": {
    "colab": {
      "provenance": [],
      "authorship_tag": "ABX9TyOPMWrAj9L8sQzYfvTojKgQ",
      "include_colab_link": true
    },
    "kernelspec": {
      "name": "python3",
      "display_name": "Python 3"
    },
    "language_info": {
      "name": "python"
    }
  },
  "cells": [
    {
      "cell_type": "markdown",
      "metadata": {
        "id": "view-in-github",
        "colab_type": "text"
      },
      "source": [
        "<a href=\"https://colab.research.google.com/github/s28629/PAD_final_project/blob/main/Jacek_Piekut_28629_PAD_final_project_notebook.ipynb\" target=\"_parent\"><img src=\"https://colab.research.google.com/assets/colab-badge.svg\" alt=\"Open In Colab\"/></a>"
      ]
    },
    {
      "cell_type": "markdown",
      "source": [
        "---\n",
        "##Installing external libraries\n",
        "---"
      ],
      "metadata": {
        "id": "JootWihvQcfC"
      }
    },
    {
      "cell_type": "code",
      "execution_count": 1,
      "metadata": {
        "colab": {
          "base_uri": "https://localhost:8080/"
        },
        "id": "qvyZ8hlJPDMv",
        "outputId": "86ed17a7-ef56-4e26-9336-406deb69a30a"
      },
      "outputs": [
        {
          "output_type": "stream",
          "name": "stdout",
          "text": [
            "\u001b[2K     \u001b[90m━━━━━━━━━━━━━━━━━━━━━━━━━━━━━━━━━━━━━━━━\u001b[0m \u001b[32m8.9/8.9 MB\u001b[0m \u001b[31m67.0 MB/s\u001b[0m eta \u001b[36m0:00:00\u001b[0m\n",
            "\u001b[2K     \u001b[90m━━━━━━━━━━━━━━━━━━━━━━━━━━━━━━━━━━━━━━\u001b[0m \u001b[32m164.8/164.8 kB\u001b[0m \u001b[31m19.6 MB/s\u001b[0m eta \u001b[36m0:00:00\u001b[0m\n",
            "\u001b[?25h  Preparing metadata (setup.py) ... \u001b[?25l\u001b[?25hdone\n",
            "\u001b[2K     \u001b[90m━━━━━━━━━━━━━━━━━━━━━━━━━━━━━━━━━━━━━━\u001b[0m \u001b[32m184.3/184.3 kB\u001b[0m \u001b[31m19.8 MB/s\u001b[0m eta \u001b[36m0:00:00\u001b[0m\n",
            "\u001b[2K     \u001b[90m━━━━━━━━━━━━━━━━━━━━━━━━━━━━━━━━━━━━━━━━\u001b[0m \u001b[32m4.8/4.8 MB\u001b[0m \u001b[31m60.6 MB/s\u001b[0m eta \u001b[36m0:00:00\u001b[0m\n",
            "\u001b[2K     \u001b[90m━━━━━━━━━━━━━━━━━━━━━━━━━━━━━━━━━━━━━━━━\u001b[0m \u001b[32m82.1/82.1 kB\u001b[0m \u001b[31m9.3 MB/s\u001b[0m eta \u001b[36m0:00:00\u001b[0m\n",
            "\u001b[2K     \u001b[90m━━━━━━━━━━━━━━━━━━━━━━━━━━━━━━━━━━━━━━━━\u001b[0m \u001b[32m62.7/62.7 kB\u001b[0m \u001b[31m5.7 MB/s\u001b[0m eta \u001b[36m0:00:00\u001b[0m\n",
            "\u001b[2K     \u001b[90m━━━━━━━━━━━━━━━━━━━━━━━━━━━━━━━━━━━━━━\u001b[0m \u001b[32m341.8/341.8 kB\u001b[0m \u001b[31m24.7 MB/s\u001b[0m eta \u001b[36m0:00:00\u001b[0m\n",
            "\u001b[?25h  Building wheel for validators (setup.py) ... \u001b[?25l\u001b[?25hdone\n"
          ]
        }
      ],
      "source": [
        "!pip install -q streamlit"
      ]
    },
    {
      "cell_type": "code",
      "source": [
        "!npm install localtunnel"
      ],
      "metadata": {
        "colab": {
          "base_uri": "https://localhost:8080/"
        },
        "id": "iaT3PhRtQgXi",
        "outputId": "4ce75112-b499-4e60-e53e-1d36f2beb087"
      },
      "execution_count": 2,
      "outputs": [
        {
          "output_type": "stream",
          "name": "stdout",
          "text": [
            "\u001b[K\u001b[?25h\u001b[37;40mnpm\u001b[0m \u001b[0m\u001b[30;43mWARN\u001b[0m \u001b[0m\u001b[35msaveError\u001b[0m ENOENT: no such file or directory, open '/content/package.json'\n",
            "\u001b[0m\u001b[37;40mnpm\u001b[0m \u001b[0m\u001b[34;40mnotice\u001b[0m\u001b[35m\u001b[0m created a lockfile as package-lock.json. You should commit this file.\n",
            "\u001b[0m\u001b[37;40mnpm\u001b[0m \u001b[0m\u001b[30;43mWARN\u001b[0m \u001b[0m\u001b[35menoent\u001b[0m ENOENT: no such file or directory, open '/content/package.json'\n",
            "\u001b[0m\u001b[37;40mnpm\u001b[0m \u001b[0m\u001b[30;43mWARN\u001b[0m\u001b[35m\u001b[0m content No description\n",
            "\u001b[0m\u001b[37;40mnpm\u001b[0m \u001b[0m\u001b[30;43mWARN\u001b[0m\u001b[35m\u001b[0m content No repository field.\n",
            "\u001b[0m\u001b[37;40mnpm\u001b[0m \u001b[0m\u001b[30;43mWARN\u001b[0m\u001b[35m\u001b[0m content No README data\n",
            "\u001b[0m\u001b[37;40mnpm\u001b[0m \u001b[0m\u001b[30;43mWARN\u001b[0m\u001b[35m\u001b[0m content No license field.\n",
            "\u001b[0m\n",
            "+ localtunnel@2.0.2\n",
            "added 22 packages from 22 contributors and audited 22 packages in 1.837s\n",
            "\n",
            "3 packages are looking for funding\n",
            "  run `npm fund` for details\n",
            "\n",
            "found \u001b[92m0\u001b[0m vulnerabilities\n",
            "\n",
            "\u001b[K\u001b[?25h"
          ]
        }
      ]
    },
    {
      "cell_type": "markdown",
      "source": [
        "---\n",
        "##Loading external libraries\n",
        "---"
      ],
      "metadata": {
        "id": "bENLDWp0RXWo"
      }
    },
    {
      "cell_type": "code",
      "source": [
        "########################################################################################################################\n",
        "########################################################################################################################\n",
        "\n",
        "import numpy              as np\n",
        "import pandas             as pd\n",
        "import matplotlib.pyplot  as plt\n",
        "import seaborn            as sns\n",
        "import statsmodels.api    as sm\n",
        "import streamlit          as st\n",
        "\n",
        "########################################################################################################################\n",
        "########################################################################################################################"
      ],
      "metadata": {
        "id": "eypJV9iFRZ8P"
      },
      "execution_count": 3,
      "outputs": []
    },
    {
      "cell_type": "markdown",
      "source": [
        "---\n",
        "##Loading specific functionalities from external libraries\n",
        "---"
      ],
      "metadata": {
        "id": "EGRhGSHLRrgn"
      }
    },
    {
      "cell_type": "code",
      "source": [
        "########################################################################################################################\n",
        "########################################################################################################################\n",
        "\n",
        "from google.colab import drive\n",
        "\n",
        "from scipy.stats                import zscore\n",
        "\n",
        "from sklearn.ensemble           import RandomForestRegressor, BaggingRegressor,   AdaBoostRegressor\n",
        "from sklearn.linear_model       import LinearRegression,      LogisticRegression, Ridge,            Lasso\n",
        "from sklearn.metrics            import accuracy_score,        mean_squared_error\n",
        "from sklearn.model_selection    import cross_val_score,       train_test_split\n",
        "from sklearn.preprocessing      import StandardScaler\n",
        "from sklearn.utils              import resample\n",
        "\n",
        "########################################################################################################################\n",
        "########################################################################################################################"
      ],
      "metadata": {
        "id": "MUYxS4XTRs-o"
      },
      "execution_count": 4,
      "outputs": []
    },
    {
      "cell_type": "markdown",
      "source": [
        "---\n",
        "##Loading dataset\n",
        "\n",
        "---"
      ],
      "metadata": {
        "id": "-N2oFqCVR86v"
      }
    },
    {
      "cell_type": "code",
      "source": [
        "########################################################################################################################\n",
        "\n",
        "drive.mount('/content/drive')\n",
        "\n",
        "###########################################"
      ],
      "metadata": {
        "colab": {
          "base_uri": "https://localhost:8080/"
        },
        "id": "6wSfLWKGR9un",
        "outputId": "f5f3b325-73c9-4efd-d38b-37aa95d03db7"
      },
      "execution_count": 5,
      "outputs": [
        {
          "output_type": "stream",
          "name": "stdout",
          "text": [
            "Mounted at /content/drive\n"
          ]
        }
      ]
    },
    {
      "cell_type": "code",
      "source": [
        "########################################################################################################################\n",
        "\n",
        "location        = '/content/drive/MyDrive/courses/part_2/PAD/final_project_form/'\n",
        "name_of_dataset = 'real_estate_dataset.csv'\n",
        "dataset_path    = location + name_of_dataset\n",
        "\n",
        "########################################################################################################################"
      ],
      "metadata": {
        "id": "7PW1XmeXSISL"
      },
      "execution_count": 6,
      "outputs": []
    },
    {
      "cell_type": "code",
      "source": [
        "########################################################################################################################\n",
        "# loading the dataset\n",
        "\n",
        "df = pd.read_csv(filepath_or_buffer=dataset_path)\n",
        "\n",
        "########################################################################################################################"
      ],
      "metadata": {
        "id": "No0uRHpHSQ3b"
      },
      "execution_count": 7,
      "outputs": []
    },
    {
      "cell_type": "markdown",
      "source": [
        "---\n",
        "##Exploratory data analysis\n",
        "---"
      ],
      "metadata": {
        "id": "ZYXg1j8PSkLV"
      }
    },
    {
      "cell_type": "code",
      "source": [
        "########################################################################################################################\n",
        "\n",
        "# displaying the number of records loaded\n",
        "\n",
        "num_records = len(df)\n",
        "\n",
        "print(\"Number of Records Loaded:\", num_records)\n",
        "\n",
        "########################################################################################################################"
      ],
      "metadata": {
        "colab": {
          "base_uri": "https://localhost:8080/"
        },
        "id": "Z-19Z8enSlXf",
        "outputId": "d7fe38c0-43b4-40a8-be81-d25dc2b5208f"
      },
      "execution_count": 8,
      "outputs": [
        {
          "output_type": "stream",
          "name": "stdout",
          "text": [
            "Number of Records Loaded: 414\n"
          ]
        }
      ]
    },
    {
      "cell_type": "markdown",
      "source": [
        "---\n",
        "###Missing values detection\n",
        "---"
      ],
      "metadata": {
        "id": "A55LOrmwSqq0"
      }
    },
    {
      "cell_type": "code",
      "source": [
        "########################################################################################################################\n",
        "# displaying the number of missing entries in each column\n",
        "\n",
        "missing_values = df.isnull().sum()\n",
        "\n",
        "print(\"Missing Values:\")\n",
        "print(missing_values)\n",
        "\n",
        "########################################################################################################################"
      ],
      "metadata": {
        "colab": {
          "base_uri": "https://localhost:8080/"
        },
        "id": "e6M9OjjQSrbo",
        "outputId": "954e114a-69bc-46cc-adb9-47d7552faee5"
      },
      "execution_count": 9,
      "outputs": [
        {
          "output_type": "stream",
          "name": "stdout",
          "text": [
            "Missing Values:\n",
            "No                                        0\n",
            "X1 transaction date                       0\n",
            "X2 house age                              0\n",
            "X3 distance to the nearest MRT station    0\n",
            "X4 number of convenience stores           0\n",
            "X5 latitude                               0\n",
            "X6 longitude                              0\n",
            "Y house price of unit area                0\n",
            "dtype: int64\n"
          ]
        }
      ]
    },
    {
      "cell_type": "markdown",
      "source": [
        "---\n",
        "###Column types analysis\n",
        "---"
      ],
      "metadata": {
        "id": "AUs9DEzmSvoJ"
      }
    },
    {
      "cell_type": "code",
      "source": [
        "########################################################################################################################\n",
        "# displaying the types of columns\n",
        "\n",
        "column_types = df.dtypes\n",
        "\n",
        "print(\"Column Types:\")\n",
        "print(column_types)\n",
        "\n",
        "########################################################################################################################"
      ],
      "metadata": {
        "colab": {
          "base_uri": "https://localhost:8080/"
        },
        "id": "T1svMq8bSw67",
        "outputId": "3516ef2c-7be3-4f48-b076-c3c662aabb78"
      },
      "execution_count": 10,
      "outputs": [
        {
          "output_type": "stream",
          "name": "stdout",
          "text": [
            "Column Types:\n",
            "No                                          int64\n",
            "X1 transaction date                       float64\n",
            "X2 house age                              float64\n",
            "X3 distance to the nearest MRT station    float64\n",
            "X4 number of convenience stores             int64\n",
            "X5 latitude                               float64\n",
            "X6 longitude                              float64\n",
            "Y house price of unit area                float64\n",
            "dtype: object\n"
          ]
        }
      ]
    },
    {
      "cell_type": "markdown",
      "source": [
        "---\n",
        "###Displaying sample of records from dataset\n",
        "---"
      ],
      "metadata": {
        "id": "3N82NA2oS2MN"
      }
    },
    {
      "cell_type": "code",
      "source": [
        "########################################################################################################################\n",
        "# displaying the first few rows of the dataset\n",
        "\n",
        "print(\"Sample Data:\")\n",
        "\n",
        "print(df.head())\n",
        "\n",
        "########################################################################################################################"
      ],
      "metadata": {
        "colab": {
          "base_uri": "https://localhost:8080/"
        },
        "id": "ochn9OaTS34a",
        "outputId": "6eb8ea7d-186c-4dea-d1da-a9d2d1683157"
      },
      "execution_count": 11,
      "outputs": [
        {
          "output_type": "stream",
          "name": "stdout",
          "text": [
            "Sample Data:\n",
            "   No  X1 transaction date  X2 house age  \\\n",
            "0   1             2012.917          32.0   \n",
            "1   2             2012.917          19.5   \n",
            "2   3             2013.583          13.3   \n",
            "3   4             2013.500          13.3   \n",
            "4   5             2012.833           5.0   \n",
            "\n",
            "   X3 distance to the nearest MRT station  X4 number of convenience stores  \\\n",
            "0                                84.87882                               10   \n",
            "1                               306.59470                                9   \n",
            "2                               561.98450                                5   \n",
            "3                               561.98450                                5   \n",
            "4                               390.56840                                5   \n",
            "\n",
            "   X5 latitude  X6 longitude  Y house price of unit area  \n",
            "0     24.98298     121.54024                        37.9  \n",
            "1     24.98034     121.53951                        42.2  \n",
            "2     24.98746     121.54391                        47.3  \n",
            "3     24.98746     121.54391                        54.8  \n",
            "4     24.97937     121.54245                        43.1  \n"
          ]
        }
      ]
    },
    {
      "cell_type": "markdown",
      "source": [
        "---\n",
        "###Statistical summary overview\n",
        "---"
      ],
      "metadata": {
        "id": "NlBVaNY8TWy1"
      }
    },
    {
      "cell_type": "code",
      "source": [
        "########################################################################################################################\n",
        "# statistical Summary\n",
        "\n",
        "print(\"Statistical Summary:\")\n",
        "\n",
        "print(df.describe())\n",
        "\n",
        "########################################################################################################################"
      ],
      "metadata": {
        "colab": {
          "base_uri": "https://localhost:8080/"
        },
        "id": "awnC84sUTYAk",
        "outputId": "af656ffe-c130-479d-ea60-4b12efd7b9ca"
      },
      "execution_count": 12,
      "outputs": [
        {
          "output_type": "stream",
          "name": "stdout",
          "text": [
            "Statistical Summary:\n",
            "               No  X1 transaction date  X2 house age  \\\n",
            "count  414.000000           414.000000    414.000000   \n",
            "mean   207.500000          2013.148971     17.712560   \n",
            "std    119.655756             0.281967     11.392485   \n",
            "min      1.000000          2012.667000      0.000000   \n",
            "25%    104.250000          2012.917000      9.025000   \n",
            "50%    207.500000          2013.167000     16.100000   \n",
            "75%    310.750000          2013.417000     28.150000   \n",
            "max    414.000000          2013.583000     43.800000   \n",
            "\n",
            "       X3 distance to the nearest MRT station  \\\n",
            "count                              414.000000   \n",
            "mean                              1083.885689   \n",
            "std                               1262.109595   \n",
            "min                                 23.382840   \n",
            "25%                                289.324800   \n",
            "50%                                492.231300   \n",
            "75%                               1454.279000   \n",
            "max                               6488.021000   \n",
            "\n",
            "       X4 number of convenience stores  X5 latitude  X6 longitude  \\\n",
            "count                       414.000000   414.000000    414.000000   \n",
            "mean                          4.094203    24.969030    121.533361   \n",
            "std                           2.945562     0.012410      0.015347   \n",
            "min                           0.000000    24.932070    121.473530   \n",
            "25%                           1.000000    24.963000    121.528085   \n",
            "50%                           4.000000    24.971100    121.538630   \n",
            "75%                           6.000000    24.977455    121.543305   \n",
            "max                          10.000000    25.014590    121.566270   \n",
            "\n",
            "       Y house price of unit area  \n",
            "count                  414.000000  \n",
            "mean                    37.980193  \n",
            "std                     13.606488  \n",
            "min                      7.600000  \n",
            "25%                     27.700000  \n",
            "50%                     38.450000  \n",
            "75%                     46.600000  \n",
            "max                    117.500000  \n"
          ]
        }
      ]
    },
    {
      "cell_type": "markdown",
      "source": [
        "---\n",
        "###Correlation analysis between predictors and response\n",
        "---"
      ],
      "metadata": {
        "id": "S14B0WlbT0DU"
      }
    },
    {
      "cell_type": "code",
      "source": [
        "########################################################################################################################\n",
        "# performing correlation analysis between house price and other variables\n",
        "\n",
        "price_correlations = df.corr()['Y house price of unit area'].drop(['Y house price of unit area', 'No'])\n",
        "\n",
        "print(\"\\nCorrelation with House Price:\")\n",
        "print(price_correlations)\n",
        "\n",
        "########################################################################################################################"
      ],
      "metadata": {
        "colab": {
          "base_uri": "https://localhost:8080/"
        },
        "id": "CoK1X_GeT0-Y",
        "outputId": "685340ef-4626-4b51-ce1f-ad710a656009"
      },
      "execution_count": 13,
      "outputs": [
        {
          "output_type": "stream",
          "name": "stdout",
          "text": [
            "\n",
            "Correlation with House Price:\n",
            "X1 transaction date                       0.087491\n",
            "X2 house age                             -0.210567\n",
            "X3 distance to the nearest MRT station   -0.673613\n",
            "X4 number of convenience stores           0.571005\n",
            "X5 latitude                               0.546307\n",
            "X6 longitude                              0.523287\n",
            "Name: Y house price of unit area, dtype: float64\n"
          ]
        }
      ]
    },
    {
      "cell_type": "markdown",
      "source": [
        "---\n",
        "###Correlation analysis between specific predictors\n",
        "---"
      ],
      "metadata": {
        "id": "UcZvqdarT_gl"
      }
    },
    {
      "cell_type": "code",
      "source": [
        "########################################################################################################################\n",
        "# detailed correlation analysis\n",
        "\n",
        "print(\"Correlation Analysis:\")\n",
        "\n",
        "correlation_matrix = df.corr().drop(columns=['No'])\n",
        "\n",
        "print(correlation_matrix)\n",
        "\n",
        "########################################################################################################################"
      ],
      "metadata": {
        "colab": {
          "base_uri": "https://localhost:8080/"
        },
        "id": "A8nlix2kT_HB",
        "outputId": "10bda9e2-4f83-4b8a-b985-362a53000840"
      },
      "execution_count": 14,
      "outputs": [
        {
          "output_type": "stream",
          "name": "stdout",
          "text": [
            "Correlation Analysis:\n",
            "                                        X1 transaction date  X2 house age  \\\n",
            "No                                                -0.048658     -0.032808   \n",
            "X1 transaction date                                1.000000      0.017549   \n",
            "X2 house age                                       0.017549      1.000000   \n",
            "X3 distance to the nearest MRT station             0.060880      0.025622   \n",
            "X4 number of convenience stores                    0.009635      0.049593   \n",
            "X5 latitude                                        0.035058      0.054420   \n",
            "X6 longitude                                      -0.041082     -0.048520   \n",
            "Y house price of unit area                         0.087491     -0.210567   \n",
            "\n",
            "                                        X3 distance to the nearest MRT station  \\\n",
            "No                                                                   -0.013573   \n",
            "X1 transaction date                                                   0.060880   \n",
            "X2 house age                                                          0.025622   \n",
            "X3 distance to the nearest MRT station                                1.000000   \n",
            "X4 number of convenience stores                                      -0.602519   \n",
            "X5 latitude                                                          -0.591067   \n",
            "X6 longitude                                                         -0.806317   \n",
            "Y house price of unit area                                           -0.673613   \n",
            "\n",
            "                                        X4 number of convenience stores  \\\n",
            "No                                                            -0.012699   \n",
            "X1 transaction date                                            0.009635   \n",
            "X2 house age                                                   0.049593   \n",
            "X3 distance to the nearest MRT station                        -0.602519   \n",
            "X4 number of convenience stores                                1.000000   \n",
            "X5 latitude                                                    0.444143   \n",
            "X6 longitude                                                   0.449099   \n",
            "Y house price of unit area                                     0.571005   \n",
            "\n",
            "                                        X5 latitude  X6 longitude  \\\n",
            "No                                        -0.010110     -0.011059   \n",
            "X1 transaction date                        0.035058     -0.041082   \n",
            "X2 house age                               0.054420     -0.048520   \n",
            "X3 distance to the nearest MRT station    -0.591067     -0.806317   \n",
            "X4 number of convenience stores            0.444143      0.449099   \n",
            "X5 latitude                                1.000000      0.412924   \n",
            "X6 longitude                               0.412924      1.000000   \n",
            "Y house price of unit area                 0.546307      0.523287   \n",
            "\n",
            "                                        Y house price of unit area  \n",
            "No                                                       -0.028587  \n",
            "X1 transaction date                                       0.087491  \n",
            "X2 house age                                             -0.210567  \n",
            "X3 distance to the nearest MRT station                   -0.673613  \n",
            "X4 number of convenience stores                           0.571005  \n",
            "X5 latitude                                               0.546307  \n",
            "X6 longitude                                              0.523287  \n",
            "Y house price of unit area                                1.000000  \n"
          ]
        }
      ]
    },
    {
      "cell_type": "markdown",
      "source": [
        "---\n",
        "###heatmap analysis\n",
        "---"
      ],
      "metadata": {
        "id": "bO69wRgdUGYG"
      }
    },
    {
      "cell_type": "code",
      "source": [
        "########################################################################################################################\n",
        "# data visualsation\n",
        "\n",
        "plt.figure(figsize=(12, 10))\n",
        "\n",
        "sns.heatmap(\n",
        "              data=correlation_matrix,\n",
        "              annot=True,\n",
        "              cmap=\"coolwarm\",\n",
        "              xticklabels=correlation_matrix.columns,\n",
        "              yticklabels=correlation_matrix.columns,\n",
        "              cbar=True\n",
        "            )\n",
        "\n",
        "plt.xticks(rotation=45, ha='right')\n",
        "plt.yticks(rotation=0)\n",
        "plt.title(\"Correlation Matrix\")\n",
        "\n",
        "plt.savefig(\"heatmap.png\")\n",
        "\n",
        "plt.show()\n",
        "\n",
        "########################################################################################################################"
      ],
      "metadata": {
        "id": "ank4LqJIUHCU"
      },
      "execution_count": null,
      "outputs": []
    }
  ]
}